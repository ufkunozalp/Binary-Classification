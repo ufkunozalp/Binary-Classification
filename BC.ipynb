{
  "cells": [
    {
      "cell_type": "markdown",
      "metadata": {
        "id": "tFpx4bOLJOaU"
      },
      "source": [
        "# Prerequisites and Imports"
      ]
    },
    {
      "cell_type": "code",
      "execution_count": 1,
      "metadata": {
        "id": "ThgGxXg3r_Jd"
      },
      "outputs": [],
      "source": [
        "import numpy as np\n",
        "import pandas as pd\n",
        "import matplotlib.pyplot as plt\n",
        "import sklearn\n",
        "import statistics\n",
        "\n",
        "from google.colab import drive\n",
        "from sklearn.model_selection import train_test_split\n",
        "from sklearn.preprocessing import MinMaxScaler\n",
        "from sklearn.decomposition import PCA\n",
        "from sklearn.impute import SimpleImputer\n",
        "from sklearn.feature_selection import RFECV\n",
        "from sklearn.feature_selection import RFE\n",
        "%matplotlib inline\n",
        "from sklearn.model_selection import cross_val_score\n",
        "from sklearn.model_selection import RepeatedStratifiedKFold\n",
        "from numpy import mean\n",
        "from numpy import std\n",
        "from sklearn.model_selection import GridSearchCV\n",
        "from sklearn.pipeline import Pipeline\n",
        "from sklearn.model_selection import learning_curve\n",
        "from sklearn.feature_selection import SelectKBest\n",
        "from sklearn.naive_bayes import GaussianNB\n",
        "from sklearn.linear_model import LogisticRegression\n",
        "from sklearn.ensemble import RandomForestClassifier\n",
        "from sklearn.neighbors import KNeighborsClassifier\n",
        "from sklearn.discriminant_analysis import LinearDiscriminantAnalysis\n",
        "from sklearn.svm import SVC\n",
        "from sklearn.neural_network import MLPClassifier\n",
        "from xgboost import XGBClassifier\n",
        "from numpy import mean\n",
        "\n",
        "\n"
      ]
    },
    {
      "cell_type": "markdown",
      "metadata": {
        "id": "hUGGA_6EOsRm"
      },
      "source": [
        "# Load Training Data"
      ]
    },
    {
      "cell_type": "code",
      "execution_count": 2,
      "metadata": {
        "id": "_aZPfygsOwYI",
        "colab": {
          "base_uri": "https://localhost:8080/"
        },
        "outputId": "3aed1290-068d-4207-d811-31eadcd3256f"
      },
      "outputs": [
        {
          "output_type": "stream",
          "name": "stdout",
          "text": [
            "Drive already mounted at /content/drive; to attempt to forcibly remount, call drive.mount(\"/content/drive\", force_remount=True).\n"
          ]
        }
      ],
      "source": [
        "drive.mount('/content/drive')\n",
        "training1 = pd.read_csv('/content/drive/My Drive/FML_Data/training1.csv')\n",
        "training2 = pd.read_csv('/content/drive/My Drive/FML_Data/training2.csv')"
      ]
    },
    {
      "cell_type": "markdown",
      "source": [
        "# Pre-processing"
      ],
      "metadata": {
        "id": "xlgbbMpXa7Bf"
      }
    },
    {
      "cell_type": "code",
      "execution_count": 3,
      "metadata": {
        "id": "2clC3LvAPzVO"
      },
      "outputs": [],
      "source": [
        "# Function that drops data with low confidence (below 66%)\n",
        "def dropLowConf(data):\n",
        "  data.drop(data.loc[data['confidence'] == 0.66].index, inplace=True)\n",
        "  return data\n",
        "\n",
        "# Function seperates CNN and GIST features in dataset\n",
        "def getFeatureData(data):\n",
        "  dropLowConf(data)\n",
        "  features = list(data.columns.values)\n",
        "  CNN_features = []\n",
        "  GIST_features = []\n",
        "  for feature in features:\n",
        "    if(\"CNNs.\" in feature):\n",
        "      CNN_features.append(feature)\n",
        "    if(\"GIST.\" in feature):\n",
        "      GIST_features.append(feature)\n",
        "  CNN_data = data[CNN_features]\n",
        "  GIST_data = data[GIST_features]\n",
        "  return CNN_data, GIST_data\n",
        "\n",
        "# Pre-processing data\n",
        "def preProcessing(data):\n",
        "  # convert a dataframe into an array\n",
        "  data_array = data.values\n",
        "  # Input normalization: Normalization\n",
        "  scaler = MinMaxScaler(feature_range = (0,1))\n",
        "  data_normalization = scaler.fit_transform(data_array)\n",
        "  # Imputing\n",
        "  imputer = SimpleImputer(strategy='mean')\n",
        "  data_imputing = imputer.fit_transform(data_normalization)\n",
        "  # dimensionality reduction\n",
        "  pca = PCA(n_components=10)\n",
        "  data_pca = pca.fit_transform(data_imputing) \n",
        "  #draw plot\n",
        "  plt.scatter(data_pca[:,0],data_pca[:,1])\n",
        "  return data_pca\n",
        "\n",
        "# evaluate model\n",
        "def evaluateModel(model, train_x, train_y):\n",
        "  # K fold resampling \n",
        "\tcv = RepeatedStratifiedKFold(n_splits=10, n_repeats=3, random_state=1)\n",
        "\treturn cross_val_score(model, train_x, train_y, scoring='accuracy', cv=cv, n_jobs=-1)"
      ]
    },
    {
      "cell_type": "code",
      "execution_count": 4,
      "metadata": {
        "colab": {
          "base_uri": "https://localhost:8080/",
          "height": 265
        },
        "id": "YatRmcIJYgnh",
        "outputId": "a2fde0a7-e574-4fdd-8c12-008c36e40154"
      },
      "outputs": [
        {
          "output_type": "display_data",
          "data": {
            "text/plain": [
              "<Figure size 432x288 with 1 Axes>"
            ],
            "image/png": "[encoded data removed]"
          },
          "metadata": {
            "needs_background": "light"
          }
        }
      ],
      "source": [
        "data = training2\n",
        "\n",
        "CNN_data, GIST_data = getFeatureData(data)\n",
        "# get training data and label data\n",
        "properties = list(data.columns.values)\n",
        "properties.remove('label')\n",
        "pro_data = data[properties]\n",
        "train_label = data['label']\n",
        "train_data = preProcessing(pro_data)"
      ]
    },
    {
      "cell_type": "markdown",
      "source": [
        "## Importance Getter"
      ],
      "metadata": {
        "id": "Ow5zJEK-bCh4"
      }
    },
    {
      "cell_type": "code",
      "execution_count": 5,
      "metadata": {
        "id": "yi2dmtF0VNH6"
      },
      "outputs": [],
      "source": [
        "# Function calculates and returns the importance of a data\n",
        "def getImportance(data):\n",
        "  x_train, x_test, y_train, y_test = train_test_split(data, train_label, test_size=0.25, random_state=42)\n",
        "  ss = MinMaxScaler(feature_range = (0,1))\n",
        "  x_train_scaled = ss.fit_transform(x_train)\n",
        "  X_test_scaled = ss.transform(x_test)\n",
        "\n",
        "  model = XGBClassifier()\n",
        "  model.fit(x_train_scaled, y_train)\n",
        "  importances = pd.DataFrame(data={\n",
        "      'Attribute': x_train.columns,\n",
        "      'Importance': model.feature_importances_\n",
        "  })\n",
        "  return statistics.mean(model.feature_importances_)\n"
      ]
    },
    {
      "cell_type": "code",
      "execution_count": 6,
      "metadata": {
        "colab": {
          "base_uri": "https://localhost:8080/"
        },
        "id": "PPPfXkKIkBaC",
        "outputId": "9863a7fc-2447-4101-db89-3aedf10bee48"
      },
      "outputs": [
        {
          "output_type": "stream",
          "name": "stdout",
          "text": [
            "0.00024420026\n",
            "0.0019569471\n"
          ]
        }
      ],
      "source": [
        "CNN_importances = getImportance(CNN_data)\n",
        "GIST_importances = getImportance(GIST_data)\n",
        "print(CNN_importances)\n",
        "print(GIST_importances)"
      ]
    },
    {
      "cell_type": "markdown",
      "source": [
        "## Data Imputation"
      ],
      "metadata": {
        "id": "yPQkjC4Berxy"
      }
    },
    {
      "cell_type": "code",
      "execution_count": 7,
      "metadata": {
        "colab": {
          "base_uri": "https://localhost:8080/",
          "height": 335
        },
        "id": "A9EG49LilN_-",
        "outputId": "21f70c17-42e6-469a-e416-128097d8ff0e"
      },
      "outputs": [
        {
          "output_type": "stream",
          "name": "stdout",
          "text": [
            "mean: 0.741\n",
            "median: 0.741\n",
            "most_frequent: 0.750\n",
            "constant: 0.750\n"
          ]
        },
        {
          "output_type": "display_data",
          "data": {
            "text/plain": [
              "<Figure size 432x288 with 1 Axes>"
            ],
            "image/png": "[encoded data removed]"
          },
          "metadata": {
            "needs_background": "light"
          }
        }
      ],
      "source": [
        "# test appropriate imputing methods\n",
        "results = []\n",
        "strategies = ['mean', 'median', 'most_frequent', 'constant']\n",
        "for strategy in strategies:\n",
        "\t# create the modeling pipeline\n",
        "\tpipeline = Pipeline(steps=[('i', SimpleImputer(strategy = strategy)), ('m', RandomForestClassifier())])\n",
        "\t# evaluate the model\n",
        "\tcv = RepeatedStratifiedKFold(n_splits = 10, n_repeats = 3, random_state = 1)\n",
        "\tscores = cross_val_score(pipeline, pro_data, train_label, scoring='accuracy', cv = cv, n_jobs=-1)\n",
        "\t# store results\n",
        "\tresults.append(scores)\n",
        "\tprint('%s: %.3f' % (strategy, mean(scores)))\n",
        "# plot model performance for comparison\n",
        "plt.boxplot(results, labels=strategies, showmeans=True)\n",
        "plt.show()\n"
      ]
    },
    {
      "cell_type": "code",
      "execution_count": 8,
      "metadata": {
        "colab": {
          "base_uri": "https://localhost:8080/"
        },
        "id": "0XqeB_6xwd7c",
        "outputId": "069db618-6202-4c31-b857-da2f5a1049c7"
      },
      "outputs": [
        {
          "output_type": "stream",
          "name": "stdout",
          "text": [
            "1: 0.722\n",
            "2: 0.728\n",
            "3: 0.728\n",
            "4: 0.751\n",
            "5: 0.749\n",
            "6: 0.752\n",
            "7: 0.753\n",
            "8: 0.755\n",
            "9: 0.755\n",
            "10: 0.759\n",
            "11: 0.756\n",
            "12: 0.748\n",
            "13: 0.751\n",
            "14: 0.757\n",
            "15: 0.757\n",
            "16: 0.754\n",
            "17: 0.751\n",
            "18: 0.760\n",
            "19: 0.759\n",
            "20: 0.757\n"
          ]
        }
      ],
      "source": [
        "# get the dataset\n",
        "data_array = data.values\n",
        "scaler = MinMaxScaler(feature_range = (0,1))\n",
        "data_normalization = scaler.fit_transform(data_array)\n",
        "imputer = SimpleImputer(strategy='mean')\n",
        "data_imputing = imputer.fit_transform(data_normalization)\n",
        "\n",
        "# get a list of models to evaluate\n",
        "def get_models():\n",
        "\tmodels = {}\n",
        "\tfor i in range(1,21):\n",
        "\t\tsteps = [('pca', PCA(n_components=i)), ('m', LogisticRegression())]\n",
        "\t\tmodels[str(i)] = Pipeline(steps=steps)\n",
        "\treturn models\n",
        "\n",
        "# get the models to evaluate\n",
        "models = get_models()\n",
        "\n",
        "# evaluate the models and store results\n",
        "names = [] \n",
        "results = []\n",
        "for name, model in models.items():\n",
        "\tscores = evaluateModel(model, data_imputing, train_label)\n",
        "\tresults.append(scores)\n",
        "\tnames.append(name)\n",
        "\tprint('%s: %.3f' % (name, mean(scores)))"
      ]
    },
    {
      "cell_type": "markdown",
      "source": [
        "# Select, Train and Test the Model"
      ],
      "metadata": {
        "id": "kRyqlJ2OdQhH"
      }
    },
    {
      "cell_type": "code",
      "execution_count": 9,
      "metadata": {
        "colab": {
          "base_uri": "https://localhost:8080/",
          "height": 750
        },
        "id": "ItmSTcbfy_sL",
        "outputId": "645bb116-c15f-4600-d880-27bd2dd9e87c"
      },
      "outputs": [
        {
          "output_type": "stream",
          "name": "stdout",
          "text": [
            "Accuracy score of Naive Bayes : 0.737776 (0.043671)\n",
            "Accuracy score of Logistic Regression : 0.745977 (0.040407)\n",
            "Accuracy score of Linear Discriminant Analysis : 0.748710 (0.040702)\n",
            "Accuracy score of Random Forest Classifier : 0.736875 (0.041995)\n",
            "Accuracy score of Support Vector Machine : 0.743688 (0.043344)\n",
            "Accuracy score of Multi-layer Perceptron Classifier : 0.713149 (0.041775)\n",
            "Accuracy score of K-Nearest Neighbors : 0.688078 (0.043196)\n"
          ]
        },
        {
          "output_type": "execute_result",
          "data": {
            "text/plain": [
              "Text(0, 0.5, 'Accuracy Score')"
            ]
          },
          "metadata": {},
          "execution_count": 9
        },
        {
          "output_type": "display_data",
          "data": {
            "text/plain": [
              "<Figure size 1440x720 with 1 Axes>"
            ],
            "image/png": "[encoded data removed]"
          },
          "metadata": {
            "needs_background": "light"
          }
        }
      ],
      "source": [
        "# test basic classifiers\n",
        "def get_models():\n",
        "  models = dict()\n",
        "  models['Naive Bayes'] = GaussianNB()\n",
        "  models['Logistic Regression'] = LogisticRegression()\n",
        "  models['Linear Discriminant Analysis'] = LinearDiscriminantAnalysis()\n",
        "  models['Random Forest Classifier'] = RandomForestClassifier()\n",
        "  models['Support Vector Machine'] = SVC(probability=True)\n",
        "  models['Multi-layer Perceptron Classifier'] = MLPClassifier()\n",
        "  models['K-Nearest Neighbors'] = KNeighborsClassifier()\n",
        "  return models\n",
        "\n",
        "# get the models to evaluate\n",
        "models = get_models()\n",
        "\n",
        "# evaluate the models and store results\n",
        "results = [] \n",
        "names = []\n",
        "for name, model in models.items():\n",
        "  scores = evaluateModel(model, train_data, train_label)\n",
        "  results.append(scores)\n",
        "  names.append(name)\n",
        "  print('Accuracy score of %s : %f (%f)' % (name, mean(scores), std(scores)))\n",
        " \n",
        "# boxplot\n",
        "fig = plt.figure(figsize=(20,10))\n",
        "ax = fig.add_subplot(111)\n",
        "ax.boxplot(results, labels=names, showmeans=True)\n",
        "ax.set_xlabel('Classifiers', fontsize=16, fontweight='bold')\n",
        "ax.set_ylabel('Accuracy Score', fontsize=16, fontweight='bold')\n"
      ]
    },
    {
      "cell_type": "code",
      "source": [
        "# Selecting features using RFE\n",
        "def get_models():\n",
        "  models = {}\n",
        "  rfe = RFE(estimator=GaussianNB(), n_features_to_select=3)\n",
        "  model = LogisticRegression()\n",
        "  models['Naive Bayes'] = Pipeline(steps=[('s',rfe),('m',model)])\n",
        "  \n",
        "  rfe = RFE(estimator=LogisticRegression(), n_features_to_select=3)\n",
        "  model = LogisticRegression()\n",
        "  models['Logistic Regression'] = Pipeline(steps=[('s',rfe),('m',model)])\n",
        "  \n",
        "  rfe = RFE(estimator=LogisticRegression(), n_features_to_select=3)\n",
        "  model = estimator=SVC(probability=True)\n",
        "  models['Support Vector Machine'] = Pipeline(steps=[('s',rfe),('m',model)])\n",
        "\t\n",
        "  rfe = RFE(estimator=LogisticRegression(), n_features_to_select=3)\n",
        "  model = RandomForestClassifier()\n",
        "  models['Random Forest Classifier'] = Pipeline(steps=[('s',rfe),('m',model)])\n",
        "\t \n",
        "  rfe = RFE(estimator= LogisticRegression(), n_features_to_select=3)\n",
        "  model = MLPClassifier()\n",
        "  models['Multi-layer Perceptron Classifier'] = Pipeline(steps=[('s',rfe),('m',model)])\n",
        "  return models\n",
        "\n",
        "results = []\n",
        "names = []\n",
        "\n",
        "models = get_models()\n",
        "# evaluate the models and store results\n",
        "for name, model in models.items():\n",
        "  scores = evaluateModel(model, train_data, train_label)\n",
        "  results.append(scores)\n",
        "  names.append(name)\n",
        "  print('Accuracy score of %s : %f' % (name, mean(scores)))"
      ],
      "metadata": {
        "colab": {
          "base_uri": "https://localhost:8080/"
        },
        "id": "sdZOcBNC2XuI",
        "outputId": "c0d62fde-6c87-4821-aa4d-763ad6b979f2"
      },
      "execution_count": 10,
      "outputs": [
        {
          "output_type": "stream",
          "name": "stderr",
          "text": [
            "/usr/local/lib/python3.7/dist-packages/sklearn/model_selection/_validation.py:372: FitFailedWarning: \n",
            "30 fits failed out of a total of 30.\n",
            "The score on these train-test partitions for these parameters will be set to nan.\n",
            "If these failures are not expected, you can try to debug them by setting error_score='raise'.\n",
            "\n",
            "Below are more details about the failures:\n",
            "--------------------------------------------------------------------------------\n",
            "30 fits failed with the following error:\n",
            "Traceback (most recent call last):\n",
            "  File \"/usr/local/lib/python3.7/dist-packages/sklearn/model_selection/_validation.py\", line 680, in _fit_and_score\n",
            "    estimator.fit(X_train, y_train, **fit_params)\n",
            "  File \"/usr/local/lib/python3.7/dist-packages/sklearn/pipeline.py\", line 390, in fit\n",
            "    Xt = self._fit(X, y, **fit_params_steps)\n",
            "  File \"/usr/local/lib/python3.7/dist-packages/sklearn/pipeline.py\", line 355, in _fit\n",
            "    **fit_params_steps[name],\n",
            "  File \"/usr/local/lib/python3.7/dist-packages/joblib/memory.py\", line 349, in __call__\n",
            "    return self.func(*args, **kwargs)\n",
            "  File \"/usr/local/lib/python3.7/dist-packages/sklearn/pipeline.py\", line 893, in _fit_transform_one\n",
            "    res = transformer.fit_transform(X, y, **fit_params)\n",
            "  File \"/usr/local/lib/python3.7/dist-packages/sklearn/base.py\", line 855, in fit_transform\n",
            "    return self.fit(X, y, **fit_params).transform(X)\n",
            "  File \"/usr/local/lib/python3.7/dist-packages/sklearn/feature_selection/_rfe.py\", line 222, in fit\n",
            "    return self._fit(X, y, **fit_params)\n",
            "  File \"/usr/local/lib/python3.7/dist-packages/sklearn/feature_selection/_rfe.py\", line 289, in _fit\n",
            "    transform_func=\"square\",\n",
            "  File \"/usr/local/lib/python3.7/dist-packages/sklearn/feature_selection/_base.py\", line 205, in _get_feature_importances\n",
            "    \"when `importance_getter=='auto'`, the underlying \"\n",
            "ValueError: when `importance_getter=='auto'`, the underlying estimator GaussianNB should have `coef_` or `feature_importances_` attribute. Either pass a fitted estimator to feature selector or call fit before calling transform.\n",
            "\n",
            "  warnings.warn(some_fits_failed_message, FitFailedWarning)\n"
          ]
        },
        {
          "output_type": "stream",
          "name": "stdout",
          "text": [
            "Accuracy score of Naive Bayes : nan\n",
            "Accuracy score of Logistic Regression : 0.731383\n",
            "Accuracy score of Support Vector Machine : 0.731365\n",
            "Accuracy score of Random Forest Classifier : 0.692657\n",
            "Accuracy score of Multi-layer Perceptron Classifier : 0.727706\n"
          ]
        }
      ]
    },
    {
      "cell_type": "markdown",
      "source": [
        "## Logistic Regression"
      ],
      "metadata": {
        "id": "m2K8oEx9djTv"
      }
    },
    {
      "cell_type": "code",
      "source": [
        "model = LogisticRegression()\n",
        "\n",
        "param_grid = [\n",
        "    {\n",
        "    'penalty' : ['l1', 'l2'],\n",
        "    'C' : np.logspace(-4, 4, 20),\n",
        "    'solver' : ['newton-cg', 'lbfgs', 'liblinear'],\n",
        "    'max_iter' : [100,110,120,130,140],\n",
        "    'dual':[True,False]\n",
        "    }\n",
        "]\n",
        "\n",
        "# Grid search\n",
        "cv = RepeatedStratifiedKFold(n_splits=10, n_repeats=3, random_state=1)\n",
        "grid_search  = GridSearchCV(estimator=model, param_grid = param_grid, n_jobs=-1, cv=cv, scoring='accuracy')\n",
        "grid_result = grid_search.fit(train_data, train_label)\n",
        "\n",
        "print(\"Best Logistic Regression: %f using %s\" % (grid_result.best_score_, grid_result.best_params_))\n"
      ],
      "metadata": {
        "colab": {
          "base_uri": "https://localhost:8080/"
        },
        "id": "kXiyHMZH21rG",
        "outputId": "60879df1-693b-4439-d0a6-114015fa728d"
      },
      "execution_count": 11,
      "outputs": [
        {
          "output_type": "stream",
          "name": "stdout",
          "text": [
            "Best Logistic Regression: 0.748704 using {'C': 11.288378916846883, 'dual': True, 'max_iter': 140, 'penalty': 'l2', 'solver': 'liblinear'}\n"
          ]
        },
        {
          "output_type": "stream",
          "name": "stderr",
          "text": [
            "/usr/local/lib/python3.7/dist-packages/sklearn/model_selection/_validation.py:372: FitFailedWarning: \n",
            "21000 fits failed out of a total of 36000.\n",
            "The score on these train-test partitions for these parameters will be set to nan.\n",
            "If these failures are not expected, you can try to debug them by setting error_score='raise'.\n",
            "\n",
            "Below are more details about the failures:\n",
            "--------------------------------------------------------------------------------\n",
            "6000 fits failed with the following error:\n",
            "Traceback (most recent call last):\n",
            "  File \"/usr/local/lib/python3.7/dist-packages/sklearn/model_selection/_validation.py\", line 680, in _fit_and_score\n",
            "    estimator.fit(X_train, y_train, **fit_params)\n",
            "  File \"/usr/local/lib/python3.7/dist-packages/sklearn/linear_model/_logistic.py\", line 1461, in fit\n",
            "    solver = _check_solver(self.solver, self.penalty, self.dual)\n",
            "  File \"/usr/local/lib/python3.7/dist-packages/sklearn/linear_model/_logistic.py\", line 449, in _check_solver\n",
            "    % (solver, penalty)\n",
            "ValueError: Solver newton-cg supports only 'l2' or 'none' penalties, got l1 penalty.\n",
            "\n",
            "--------------------------------------------------------------------------------\n",
            "6000 fits failed with the following error:\n",
            "Traceback (most recent call last):\n",
            "  File \"/usr/local/lib/python3.7/dist-packages/sklearn/model_selection/_validation.py\", line 680, in _fit_and_score\n",
            "    estimator.fit(X_train, y_train, **fit_params)\n",
            "  File \"/usr/local/lib/python3.7/dist-packages/sklearn/linear_model/_logistic.py\", line 1461, in fit\n",
            "    solver = _check_solver(self.solver, self.penalty, self.dual)\n",
            "  File \"/usr/local/lib/python3.7/dist-packages/sklearn/linear_model/_logistic.py\", line 449, in _check_solver\n",
            "    % (solver, penalty)\n",
            "ValueError: Solver lbfgs supports only 'l2' or 'none' penalties, got l1 penalty.\n",
            "\n",
            "--------------------------------------------------------------------------------\n",
            "3000 fits failed with the following error:\n",
            "Traceback (most recent call last):\n",
            "  File \"/usr/local/lib/python3.7/dist-packages/sklearn/model_selection/_validation.py\", line 680, in _fit_and_score\n",
            "    estimator.fit(X_train, y_train, **fit_params)\n",
            "  File \"/usr/local/lib/python3.7/dist-packages/sklearn/linear_model/_logistic.py\", line 1541, in fit\n",
            "    sample_weight=sample_weight,\n",
            "  File \"/usr/local/lib/python3.7/dist-packages/sklearn/svm/_base.py\", line 1185, in _fit_liblinear\n",
            "    solver_type = _get_liblinear_solver_type(multi_class, penalty, loss, dual)\n",
            "  File \"/usr/local/lib/python3.7/dist-packages/sklearn/svm/_base.py\", line 1026, in _get_liblinear_solver_type\n",
            "    % (error_string, penalty, loss, dual)\n",
            "ValueError: Unsupported set of arguments: The combination of penalty='l1' and loss='logistic_regression' are not supported when dual=True, Parameters: penalty='l1', loss='logistic_regression', dual=True\n",
            "\n",
            "--------------------------------------------------------------------------------\n",
            "3000 fits failed with the following error:\n",
            "Traceback (most recent call last):\n",
            "  File \"/usr/local/lib/python3.7/dist-packages/sklearn/model_selection/_validation.py\", line 680, in _fit_and_score\n",
            "    estimator.fit(X_train, y_train, **fit_params)\n",
            "  File \"/usr/local/lib/python3.7/dist-packages/sklearn/linear_model/_logistic.py\", line 1461, in fit\n",
            "    solver = _check_solver(self.solver, self.penalty, self.dual)\n",
            "  File \"/usr/local/lib/python3.7/dist-packages/sklearn/linear_model/_logistic.py\", line 453, in _check_solver\n",
            "    \"Solver %s supports only dual=False, got dual=%s\" % (solver, dual)\n",
            "ValueError: Solver newton-cg supports only dual=False, got dual=True\n",
            "\n",
            "--------------------------------------------------------------------------------\n",
            "3000 fits failed with the following error:\n",
            "Traceback (most recent call last):\n",
            "  File \"/usr/local/lib/python3.7/dist-packages/sklearn/model_selection/_validation.py\", line 680, in _fit_and_score\n",
            "    estimator.fit(X_train, y_train, **fit_params)\n",
            "  File \"/usr/local/lib/python3.7/dist-packages/sklearn/linear_model/_logistic.py\", line 1461, in fit\n",
            "    solver = _check_solver(self.solver, self.penalty, self.dual)\n",
            "  File \"/usr/local/lib/python3.7/dist-packages/sklearn/linear_model/_logistic.py\", line 453, in _check_solver\n",
            "    \"Solver %s supports only dual=False, got dual=%s\" % (solver, dual)\n",
            "ValueError: Solver lbfgs supports only dual=False, got dual=True\n",
            "\n",
            "  warnings.warn(some_fits_failed_message, FitFailedWarning)\n",
            "/usr/local/lib/python3.7/dist-packages/sklearn/model_selection/_search.py:972: UserWarning: One or more of the test scores are non-finite: [      nan       nan       nan ... 0.7459768 0.7459768 0.7459768]\n",
            "  category=UserWarning,\n",
            "/usr/local/lib/python3.7/dist-packages/sklearn/svm/_base.py:1208: ConvergenceWarning: Liblinear failed to converge, increase the number of iterations.\n",
            "  ConvergenceWarning,\n"
          ]
        }
      ]
    },
    {
      "cell_type": "code",
      "source": [
        "# C value for best logistic regression\n",
        "C_LR = 11.288378916846883"
      ],
      "metadata": {
        "id": "lbKKFOnlOotO"
      },
      "execution_count": 12,
      "outputs": []
    },
    {
      "cell_type": "markdown",
      "source": [
        "## Gaussian Naive Bayes"
      ],
      "metadata": {
        "id": "WV-RXafzdoDu"
      }
    },
    {
      "cell_type": "code",
      "source": [
        "nb_classifier = GaussianNB()\n",
        "\n",
        "params_NB = {'var_smoothing': np.logspace(0,-9, num=100)}\n",
        "gs_NB = GridSearchCV(estimator=nb_classifier, param_grid=params_NB,cv=cv,verbose=1,scoring='accuracy') \n",
        "gs_NB.fit(train_data, train_label)\n",
        "gs_NB.best_params_\n"
      ],
      "metadata": {
        "colab": {
          "base_uri": "https://localhost:8080/"
        },
        "id": "_1Tjq2P_3M3t",
        "outputId": "5b92387e-0d6b-41c1-bc15-81f36f3db322"
      },
      "execution_count": 13,
      "outputs": [
        {
          "output_type": "stream",
          "name": "stdout",
          "text": [
            "Fitting 30 folds for each of 100 candidates, totalling 3000 fits\n"
          ]
        },
        {
          "output_type": "execute_result",
          "data": {
            "text/plain": [
              "{'var_smoothing': 0.04328761281083057}"
            ]
          },
          "metadata": {},
          "execution_count": 13
        }
      ]
    },
    {
      "cell_type": "code",
      "source": [
        "# Storing var_smoothing value\n",
        "var_sm_NB = 0.08111308307896872"
      ],
      "metadata": {
        "id": "gVXjbr5MTlP-"
      },
      "execution_count": 14,
      "outputs": []
    },
    {
      "cell_type": "markdown",
      "source": [
        "## Multi-layer Perceptron Classifier"
      ],
      "metadata": {
        "id": "bglPtMHIduQm"
      }
    },
    {
      "cell_type": "code",
      "source": [
        "# define models and parameters\n",
        "model = MLPClassifier(max_iter=100)\n",
        "param_grid = [\n",
        "    { 'hidden_layer_sizes': [(50,50,50), (50,100,50), (100,)],\n",
        "    'activation': ['tanh', 'relu'],\n",
        "    'solver': ['sgd', 'adam'],\n",
        "    'alpha': [0.0001, 0.05],\n",
        "    'learning_rate': ['constant','adaptive'],\n",
        "     }\n",
        "]\n",
        "\n",
        "# Grid search\n",
        "grid_search  = GridSearchCV(estimator=model, param_grid = param_grid, n_jobs=-1, cv=5, scoring='accuracy')\n",
        "grid_result = grid_search.fit(train_data, train_label)\n",
        "\n",
        "print(\"Best MLPClassifier: %f using %s\" % (grid_result.best_score_, grid_result.best_params_))"
      ],
      "metadata": {
        "colab": {
          "base_uri": "https://localhost:8080/"
        },
        "id": "KelK1d5X3P6g",
        "outputId": "995e7dfa-0315-4762-90ae-33e25c5260b7"
      },
      "execution_count": 15,
      "outputs": [
        {
          "output_type": "stream",
          "name": "stdout",
          "text": [
            "Best MLPClassifier: 0.749790 using {'activation': 'tanh', 'alpha': 0.05, 'hidden_layer_sizes': (50, 50, 50), 'learning_rate': 'constant', 'solver': 'sgd'}\n"
          ]
        },
        {
          "output_type": "stream",
          "name": "stderr",
          "text": [
            "/usr/local/lib/python3.7/dist-packages/sklearn/neural_network/_multilayer_perceptron.py:696: ConvergenceWarning: Stochastic Optimizer: Maximum iterations (100) reached and the optimization hasn't converged yet.\n",
            "  ConvergenceWarning,\n"
          ]
        }
      ]
    },
    {
      "cell_type": "code",
      "source": [
        "def get_models():\n",
        "  models = {}\n",
        "  models['Naive Bayes2'] =GaussianNB(var_smoothing=var_sm_NB)\n",
        "  models['Logistic Regression2'] = LogisticRegression(penalty='l2', C=C_LR,solver='liblinear', max_iter = 100)\n",
        "  models['Linear Discriminant Analysis'] = LinearDiscriminantAnalysis()\n",
        "  models['Multi-layer Perceptron Classifier2'] = MLPClassifier(max_iter=100, activation='tanh', alpha= 0.0001, hidden_layer_sizes=(100,), learning_rate='adaptive', solver='adam')\n",
        "  return models"
      ],
      "metadata": {
        "id": "iYqwdCjIY-Nu"
      },
      "execution_count": 16,
      "outputs": []
    },
    {
      "cell_type": "code",
      "source": [
        "# get the models to evaluate\n",
        "models = get_models()\n",
        "\n",
        "# evaluate the models and store results\n",
        "results = []\n",
        "names = []\n",
        "for name, model in models.items():\n",
        "  scores = evaluateModel(model, train_data, train_label)\n",
        "  results.append(scores)\n",
        "  names.append(name)\n",
        "  print('Accuracy score of %s : %f' % (name, mean(scores)))\n",
        " \n",
        "# Boxplot\n",
        "fig = plt.figure(figsize=(20,10))\n",
        "\n",
        "ax = fig.add_subplot(111)\n",
        "ax.boxplot(results, labels=names, showmeans=True)\n",
        "ax.set_xlabel('Classifiers', fontsize=16, fontweight='bold')\n",
        "ax.set_ylabel('Accuracy Score', fontsize=16, fontweight='bold')\n"
      ],
      "metadata": {
        "colab": {
          "base_uri": "https://localhost:8080/",
          "height": 698
        },
        "id": "ybkt0OESZBgS",
        "outputId": "629ec0c4-61a6-45c0-99dc-a78999ace35f"
      },
      "execution_count": 17,
      "outputs": [
        {
          "output_type": "stream",
          "name": "stdout",
          "text": [
            "Accuracy score of Naive Bayes2 : 0.742324\n",
            "Accuracy score of Logistic Regression2 : 0.745977\n",
            "Accuracy score of Linear Discriminant Analysis : 0.748710\n",
            "Accuracy score of Multi-layer Perceptron Classifier2 : 0.745520\n"
          ]
        },
        {
          "output_type": "execute_result",
          "data": {
            "text/plain": [
              "Text(0, 0.5, 'Accuracy Score')"
            ]
          },
          "metadata": {},
          "execution_count": 17
        },
        {
          "output_type": "display_data",
          "data": {
            "text/plain": [
              "<Figure size 1440x720 with 1 Axes>"
            ],
            "image/png": "[encoded data removed]"
          },
          "metadata": {
            "needs_background": "light"
          }
        }
      ]
    },
    {
      "cell_type": "code",
      "source": [
        "# draw learning curve for logistic regression\n",
        "model=LogisticRegression(penalty='l2', C=C_LR, solver='liblinear',max_iter = 100)\n",
        "\n",
        "# cv is the number of folds while performing Cross Validation\n",
        "sizes, training_scores, testing_scores = learning_curve(model, train_data, train_label, cv=10, scoring='accuracy', train_sizes=np.linspace(0.01, 1.0, 50))\n",
        "  \n",
        "# Mean and Standard Deviation of training scores\n",
        "mean_training = np.mean(training_scores, axis=1)\n",
        "Standard_Deviation_training = np.std(training_scores, axis=1)\n",
        "  \n",
        "# Mean and Standard Deviation of testing scores\n",
        "mean_testing = np.mean(testing_scores, axis=1)\n",
        "Standard_Deviation_testing = np.std(testing_scores, axis=1)\n",
        "  \n",
        "# dotted blue line is for training scores and green line is for cross-validation score\n",
        "plt.plot(sizes, mean_training, '--', color=\"b\",  label=\"Training Score\")\n",
        "plt.plot(sizes, mean_testing, color=\"g\", label=\"Cross-Validation Score\")\n",
        "  \n",
        "# Drawing plot\n",
        "plt.xlabel(\"Training Set Size\"), plt.ylabel(\"Accuracy Score\"), plt.legend(loc=\"best\")\n",
        "plt.show()"
      ],
      "metadata": {
        "colab": {
          "base_uri": "https://localhost:8080/",
          "height": 279
        },
        "id": "NYlFUVxp3i3L",
        "outputId": "1433b554-cee3-4b2c-f0a7-6e326266a93a"
      },
      "execution_count": 18,
      "outputs": [
        {
          "output_type": "display_data",
          "data": {
            "text/plain": [
              "<Figure size 432x288 with 1 Axes>"
            ],
            "image/png": "[encoded data removed]"
          },
          "metadata": {
            "needs_background": "light"
          }
        }
      ]
    },
    {
      "cell_type": "code",
      "source": [
        "test = pd.read_csv('/content/drive/My Drive/FML_Data/test.csv')"
      ],
      "metadata": {
        "id": "5LGm76Oh3mED"
      },
      "execution_count": 19,
      "outputs": []
    },
    {
      "cell_type": "code",
      "source": [
        "test_data=preProcessing(test)\n",
        "# fit final model\n",
        "model=LogisticRegression(penalty='l2',C=C_LR,solver='liblinear',max_iter = 100)\n",
        "model.fit(train_data,train_label)\n",
        "predictions = model.predict(test_data)"
      ],
      "metadata": {
        "colab": {
          "base_uri": "https://localhost:8080/",
          "height": 265
        },
        "id": "WmIC8QpS3uuq",
        "outputId": "542a350b-da58-4b06-b743-13f2e726e236"
      },
      "execution_count": 20,
      "outputs": [
        {
          "output_type": "display_data",
          "data": {
            "text/plain": [
              "<Figure size 432x288 with 1 Axes>"
            ],
            "image/png": "[encoded data removed]"
          },
          "metadata": {
            "needs_background": "light"
          }
        }
      ]
    },
    {
      "cell_type": "code",
      "source": [
        "predictions\n",
        "prediction = pd.DataFrame(predictions, columns=['predictions']).to_csv('prediction.csv')"
      ],
      "metadata": {
        "id": "kxG4xCTk39EG"
      },
      "execution_count": 21,
      "outputs": []
    },
    {
      "cell_type": "code",
      "source": [
        "# get the models to evaluate\n",
        "model = LogisticRegression(penalty='l2',C=C_LR,solver='liblinear',max_iter = 100)\n",
        "# evaluate the models and store results\n",
        "scores = evaluateModel(model, train_data, train_label)\n",
        "print('Accuracy score: %f ' % (mean(scores)))\n"
      ],
      "metadata": {
        "colab": {
          "base_uri": "https://localhost:8080/"
        },
        "id": "76n_m0jgfY3C",
        "outputId": "2647617d-85a8-45ad-8a27-f9194939e922"
      },
      "execution_count": 22,
      "outputs": [
        {
          "output_type": "stream",
          "name": "stdout",
          "text": [
            "Accuracy score: 0.745977 \n"
          ]
        }
      ]
    }
  ],
  "metadata": {
    "colab": {
      "name": "FML Assignment.ipynb",
      "provenance": []
    },
    "kernelspec": {
      "display_name": "Python 3",
      "name": "python3"
    },
    "language_info": {
      "name": "python"
    }
  },
  "nbformat": 4,
  "nbformat_minor": 0
}